{
  "nbformat": 4,
  "nbformat_minor": 0,
  "metadata": {
    "colab": {
      "provenance": [],
      "gpuType": "T4",
      "include_colab_link": true
    },
    "kernelspec": {
      "name": "python3",
      "display_name": "Python 3"
    },
    "language_info": {
      "name": "python"
    },
    "accelerator": "GPU"
  },
  "cells": [
    {
      "cell_type": "markdown",
      "metadata": {
        "id": "view-in-github",
        "colab_type": "text"
      },
      "source": [
        "<a href=\"https://colab.research.google.com/github/ellamcho/NB240/blob/main/MNIST/20250204_MNIST.ipynb\" target=\"_parent\"><img src=\"https://colab.research.google.com/assets/colab-badge.svg\" alt=\"Open In Colab\"/></a>"
      ]
    },
    {
      "cell_type": "markdown",
      "source": [
        "Tutorial from https://www.youtube.com/watch?v=OMDn66kM9Qc"
      ],
      "metadata": {
        "id": "R0Y47Blj2PqN"
      }
    },
    {
      "cell_type": "code",
      "execution_count": 1,
      "metadata": {
        "id": "e5rpcSLljtHU"
      },
      "outputs": [],
      "source": [
        "# Load packages\n",
        "import torch\n",
        "from torch import nn\n",
        "from torch import optim\n",
        "from torchvision import datasets, transforms\n",
        "from torch.utils.data import random_split, DataLoader"
      ]
    },
    {
      "cell_type": "code",
      "source": [
        "# Define the simple model\n",
        "model = nn.Sequential(\n",
        "    nn.Linear(28 * 28, 64),\n",
        "    nn.ReLU(),\n",
        "    nn.Linear(64, 64),\n",
        "    nn.ReLU(),\n",
        "    nn.Dropout(0.1), # for overfitting\n",
        "    nn.Linear(64, 10)\n",
        ").cuda()"
      ],
      "metadata": {
        "id": "BPKThr49kJv8"
      },
      "execution_count": 13,
      "outputs": []
    },
    {
      "cell_type": "code",
      "source": [
        "# Define a more flexible model\n",
        "\n",
        "class ResNet(nn.Module):\n",
        "  def __init__(self):\n",
        "      super().__init__()\n",
        "      self.l1 = nn.Linear(28 * 28, 64)\n",
        "      self.l2 = nn.Linear(64, 64)\n",
        "      self.l3 = nn.Linear(64,10)\n",
        "      self.do = nn.Dropout(0.1)\n",
        "  def forward(self, x):\n",
        "    h1 = nn.functional.relu(self.l1(x)) # h = hidden layers\n",
        "    h2 = nn.functional.relu(self.l2(h1))\n",
        "    do = self.do(h2 + h1) # if h2 is not necessary, the network can go off of h1; do = dropout; this is the \"residual connection\"\n",
        "    logits = self.l3(do)\n",
        "    return logits\n",
        "\n",
        "model = ResNet().cuda()\n"
      ],
      "metadata": {
        "id": "sLXvanD9jlz9"
      },
      "execution_count": 14,
      "outputs": []
    },
    {
      "cell_type": "code",
      "source": [
        "# Define the optimizer\n",
        "params = model.parameters\n",
        "optimizer = optim.SGD(params(),lr = 1e-2)"
      ],
      "metadata": {
        "id": "Vje-lXXVtzN0"
      },
      "execution_count": 15,
      "outputs": []
    },
    {
      "cell_type": "code",
      "source": [
        "# Define loss\n",
        "loss = nn.CrossEntropyLoss() # updates params"
      ],
      "metadata": {
        "id": "UUMTNt6butMt"
      },
      "execution_count": 16,
      "outputs": []
    },
    {
      "cell_type": "code",
      "source": [
        "# Training sets\n",
        "\n",
        "train_data = datasets.MNIST('data', train=True, download=True, transform=transforms.ToTensor())\n",
        "train, val = random_split(train_data, [55000, 5000]) # splits data randomly for training and then validation (\"val\")\n",
        "train_loader = DataLoader(train, batch_size =32)\n",
        "val_loader = DataLoader(val, batch_size = 32)"
      ],
      "metadata": {
        "id": "2DcBiDu7z7y6",
        "colab": {
          "base_uri": "https://localhost:8080/"
        },
        "outputId": "b63cd3cb-f5da-409e-cdf8-ff6c750ef50b"
      },
      "execution_count": 5,
      "outputs": [
        {
          "output_type": "stream",
          "name": "stdout",
          "text": [
            "Downloading http://yann.lecun.com/exdb/mnist/train-images-idx3-ubyte.gz\n",
            "Failed to download (trying next):\n",
            "HTTP Error 404: Not Found\n",
            "\n",
            "Downloading https://ossci-datasets.s3.amazonaws.com/mnist/train-images-idx3-ubyte.gz\n",
            "Downloading https://ossci-datasets.s3.amazonaws.com/mnist/train-images-idx3-ubyte.gz to data/MNIST/raw/train-images-idx3-ubyte.gz\n"
          ]
        },
        {
          "output_type": "stream",
          "name": "stderr",
          "text": [
            "100%|██████████| 9.91M/9.91M [00:00<00:00, 11.6MB/s]\n"
          ]
        },
        {
          "output_type": "stream",
          "name": "stdout",
          "text": [
            "Extracting data/MNIST/raw/train-images-idx3-ubyte.gz to data/MNIST/raw\n",
            "\n",
            "Downloading http://yann.lecun.com/exdb/mnist/train-labels-idx1-ubyte.gz\n",
            "Failed to download (trying next):\n",
            "HTTP Error 404: Not Found\n",
            "\n",
            "Downloading https://ossci-datasets.s3.amazonaws.com/mnist/train-labels-idx1-ubyte.gz\n",
            "Downloading https://ossci-datasets.s3.amazonaws.com/mnist/train-labels-idx1-ubyte.gz to data/MNIST/raw/train-labels-idx1-ubyte.gz\n"
          ]
        },
        {
          "output_type": "stream",
          "name": "stderr",
          "text": [
            "100%|██████████| 28.9k/28.9k [00:00<00:00, 358kB/s]\n"
          ]
        },
        {
          "output_type": "stream",
          "name": "stdout",
          "text": [
            "Extracting data/MNIST/raw/train-labels-idx1-ubyte.gz to data/MNIST/raw\n",
            "\n",
            "Downloading http://yann.lecun.com/exdb/mnist/t10k-images-idx3-ubyte.gz\n",
            "Failed to download (trying next):\n",
            "HTTP Error 404: Not Found\n",
            "\n",
            "Downloading https://ossci-datasets.s3.amazonaws.com/mnist/t10k-images-idx3-ubyte.gz\n",
            "Downloading https://ossci-datasets.s3.amazonaws.com/mnist/t10k-images-idx3-ubyte.gz to data/MNIST/raw/t10k-images-idx3-ubyte.gz\n"
          ]
        },
        {
          "output_type": "stream",
          "name": "stderr",
          "text": [
            "100%|██████████| 1.65M/1.65M [00:00<00:00, 3.22MB/s]\n"
          ]
        },
        {
          "output_type": "stream",
          "name": "stdout",
          "text": [
            "Extracting data/MNIST/raw/t10k-images-idx3-ubyte.gz to data/MNIST/raw\n",
            "\n",
            "Downloading http://yann.lecun.com/exdb/mnist/t10k-labels-idx1-ubyte.gz\n",
            "Failed to download (trying next):\n",
            "HTTP Error 404: Not Found\n",
            "\n",
            "Downloading https://ossci-datasets.s3.amazonaws.com/mnist/t10k-labels-idx1-ubyte.gz\n",
            "Downloading https://ossci-datasets.s3.amazonaws.com/mnist/t10k-labels-idx1-ubyte.gz to data/MNIST/raw/t10k-labels-idx1-ubyte.gz\n"
          ]
        },
        {
          "output_type": "stream",
          "name": "stderr",
          "text": [
            "100%|██████████| 4.54k/4.54k [00:00<00:00, 4.94MB/s]"
          ]
        },
        {
          "output_type": "stream",
          "name": "stdout",
          "text": [
            "Extracting data/MNIST/raw/t10k-labels-idx1-ubyte.gz to data/MNIST/raw\n",
            "\n"
          ]
        },
        {
          "output_type": "stream",
          "name": "stderr",
          "text": [
            "\n"
          ]
        }
      ]
    },
    {
      "cell_type": "code",
      "source": [
        "# Training and validation loops\n",
        "num_epochs = 5\n",
        "for epoch in range(num_epochs):\n",
        "  losses =  list()\n",
        "  accuracies = list()\n",
        "  model.train() # because dropout is in use\n",
        "  for batch in train_loader:\n",
        "    x, y = batch\n",
        "\n",
        "    # x: b x 1 x 28 x 28\n",
        "    b = x.size(0)\n",
        "    x = x.view(b, -1).cuda()\n",
        "\n",
        "  ##  5 STEPS FOR SUPERVISED TRAINING ##\n",
        "\n",
        "    # 1: Forward (l : logits)\n",
        "    l = model(x)\n",
        "\n",
        "    # 2: Compute the objective function\n",
        "    J = loss(l, y.cuda())\n",
        "\n",
        "    # 3: Clean the gradients\n",
        "    model.zero_grad()\n",
        "    #params.grad._zero()\n",
        "\n",
        "    # 4: Accumulate the partial derivatives of J\n",
        "    J.backward()\n",
        "    # params.grad._sum(dJ/dparams)\n",
        "\n",
        "    # 5: Step in the opposite direction of the gradient\n",
        "    optimizer.step()\n",
        "\n",
        "    losses.append(J.item())\n",
        "    accuracies.append(y.eq(l.detach().argmax(dim=1).cpu()).float().mean())\n",
        "\n",
        "  print(f'Epoch {epoch + 1}, train loss: {torch.tensor(losses).mean():2f}')\n",
        "  print(f'training accuracy: {torch.tensor(accuracies).mean():.2f}')\n",
        "\n",
        "    # with torch_nograd: params = eta - params.grad()\n",
        "\n",
        "  losses =  list()\n",
        "  accuracies = list()\n",
        "  model.eval() # because dropout in use\n",
        "  for batch in val_loader:\n",
        "    x, y = batch\n",
        "\n",
        "    # x: b x 1 x 28 x 28\n",
        "    b = x.size(0)\n",
        "    x = x.view(b, -1).cuda()\n",
        "\n",
        "    # 1: Forward (l : logits)\n",
        "    with torch.no_grad():\n",
        "      l = model(x)\n",
        "\n",
        "    # 2: Compute the objective function\n",
        "    J = loss(l, y.cuda())\n",
        "\n",
        "    losses.append(J.item())\n",
        "    accuracies.append(y.eq(l.detach().argmax(dim=1).cpu()).float().mean())\n",
        "\n",
        "  print(f'Epoch {epoch + 1}, validation loss: {torch.tensor(losses).mean():2f}')\n",
        "  print(f'training accuracy: {torch.tensor(accuracies).mean():.2f}')\n",
        "\n"
      ],
      "metadata": {
        "colab": {
          "base_uri": "https://localhost:8080/"
        },
        "id": "6MpfKPcCvA5D",
        "outputId": "033aa825-040d-40e7-be50-4b6d141f6802"
      },
      "execution_count": 17,
      "outputs": [
        {
          "output_type": "stream",
          "name": "stdout",
          "text": [
            "Epoch 1, train loss: 0.838922\n",
            "training accuracy: 0.77\n",
            "Epoch 1, validation loss: 0.398343\n",
            "training accuracy: 0.89\n",
            "Epoch 2, train loss: 0.368020\n",
            "training accuracy: 0.89\n",
            "Epoch 2, validation loss: 0.317379\n",
            "training accuracy: 0.91\n",
            "Epoch 3, train loss: 0.309110\n",
            "training accuracy: 0.91\n",
            "Epoch 3, validation loss: 0.274125\n",
            "training accuracy: 0.92\n",
            "Epoch 4, train loss: 0.268038\n",
            "training accuracy: 0.92\n",
            "Epoch 4, validation loss: 0.246085\n",
            "training accuracy: 0.93\n",
            "Epoch 5, train loss: 0.236423\n",
            "training accuracy: 0.93\n",
            "Epoch 5, validation loss: 0.220958\n",
            "training accuracy: 0.94\n"
          ]
        }
      ]
    }
  ]
}