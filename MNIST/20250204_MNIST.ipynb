{
  "nbformat": 4,
  "nbformat_minor": 0,
  "metadata": {
    "colab": {
      "provenance": [],
      "gpuType": "T4",
      "include_colab_link": true
    },
    "kernelspec": {
      "name": "python3",
      "display_name": "Python 3"
    },
    "language_info": {
      "name": "python"
    },
    "accelerator": "GPU"
  },
  "cells": [
    {
      "cell_type": "markdown",
      "metadata": {
        "id": "view-in-github",
        "colab_type": "text"
      },
      "source": [
        "<a href=\"https://colab.research.google.com/github/ellamcho/NB240/blob/main/MNIST/20250204_MNIST.ipynb\" target=\"_parent\"><img src=\"https://colab.research.google.com/assets/colab-badge.svg\" alt=\"Open In Colab\"/></a>"
      ]
    },
    {
      "cell_type": "markdown",
      "source": [
        "Tutorial from https://www.youtube.com/watch?v=OMDn66kM9Qc"
      ],
      "metadata": {
        "id": "R0Y47Blj2PqN"
      }
    },
    {
      "cell_type": "code",
      "execution_count": 9,
      "metadata": {
        "id": "e5rpcSLljtHU"
      },
      "outputs": [],
      "source": [
        "# Load packages\n",
        "import torch\n",
        "from torch import nn\n",
        "from torch import optim\n",
        "from torchvision import datasets, transforms\n",
        "from torch.utils.data import random_split, DataLoader"
      ]
    },
    {
      "cell_type": "code",
      "source": [
        "# Define the model\n",
        "model = nn.Sequential(\n",
        "    nn.Linear(28 * 28, 64),\n",
        "    nn.ReLU(),\n",
        "    nn.Linear(64, 64),\n",
        "    nn.ReLU(),\n",
        "    nn.Linear(64, 10)\n",
        ").cuda()"
      ],
      "metadata": {
        "id": "BPKThr49kJv8"
      },
      "execution_count": 10,
      "outputs": []
    },
    {
      "cell_type": "code",
      "source": [
        "# Define the optimizer\n",
        "params = model.parameters\n",
        "optimizer = optim.SGD(params(),lr = 1e-2)"
      ],
      "metadata": {
        "id": "Vje-lXXVtzN0"
      },
      "execution_count": 11,
      "outputs": []
    },
    {
      "cell_type": "code",
      "source": [
        "# Define loss\n",
        "loss = nn.CrossEntropyLoss()"
      ],
      "metadata": {
        "id": "UUMTNt6butMt"
      },
      "execution_count": 12,
      "outputs": []
    },
    {
      "cell_type": "code",
      "source": [
        "# Training sets\n",
        "\n",
        "train_data = datasets.MNIST('data', train=True, download=True, transform=transforms.ToTensor())\n",
        "train, val = random_split(train_data, [55000, 5000]) # splits data randomly for training and then validation (\"val\")\n",
        "train_loader = DataLoader(train, batch_size =32)\n",
        "val_loader = DataLoader(val, batch_size = 32)"
      ],
      "metadata": {
        "id": "2DcBiDu7z7y6"
      },
      "execution_count": 13,
      "outputs": []
    },
    {
      "cell_type": "code",
      "source": [
        "# Training and validation loops\n",
        "num_epochs = 5\n",
        "for epoch in range(num_epochs):\n",
        "  losses =  list()\n",
        "  accuracies = list()\n",
        "  for batch in train_loader:\n",
        "    x, y = batch\n",
        "\n",
        "    # x: b x 1 x 28 x 28\n",
        "    b = x.size(0)\n",
        "    x = x.view(b, -1).cuda()\n",
        "\n",
        "    # 1: Forward (l : logits)\n",
        "    l = model(x)\n",
        "\n",
        "    # 2: Compute the objective function\n",
        "    J = loss(l, y.cuda())\n",
        "\n",
        "    # 3: Clean the gradients\n",
        "    model.zero_grad()\n",
        "    #params.grad._zero()\n",
        "\n",
        "    # 4: Accumulate the partial derivatives of J\n",
        "    J.backward()\n",
        "    # params.grad._sum(dJ/dparams)\n",
        "\n",
        "    # 5: Step in the opposite direction of the gradient\n",
        "    optimizer.step()\n",
        "\n",
        "    losses.append(J.item())\n",
        "    accuracies.append(y.eq(l.detach().argmax(dim=1).cpu()).float().mean())\n",
        "\n",
        "  print(f'Epoch {epoch + 1}, train loss: {torch.tensor(losses).mean():2f}')\n",
        "  print(f'training accuracy: {torch.tensor(accuracies).mean():.2f}')\n",
        "\n",
        "    # with torch_nograd: params = eta - params.grad()\n",
        "\n",
        "  losses =  list()\n",
        "  for batch in val_loader:\n",
        "    x, y = batch\n",
        "\n",
        "    # x: b x 1 x 28 x 28\n",
        "    b = x.size(0)\n",
        "    x = x.view(b, -1).cuda()\n",
        "\n",
        "    # 1: Forward (l : logits)\n",
        "    with torch.no_grad():\n",
        "      l = model(x)\n",
        "\n",
        "    # 2: Compute the objective function\n",
        "    J = loss(l, y.cuda())\n",
        "\n",
        "    losses.append(J.item())\n",
        "    accuracies.append(y.eq(l.detach().argmax(dim=1).cpu()).float().mean())\n",
        "\n",
        "  print(f'Epoch {epoch + 1}, validation loss: {torch.tensor(losses).mean():2f}')\n",
        "  print(f'training accuracy: {torch.tensor(accuracies).mean():.2f}')\n",
        "\n"
      ],
      "metadata": {
        "colab": {
          "base_uri": "https://localhost:8080/"
        },
        "id": "6MpfKPcCvA5D",
        "outputId": "8a9759ac-fed5-4d73-c5b9-8278b5c0a371"
      },
      "execution_count": 14,
      "outputs": [
        {
          "output_type": "stream",
          "name": "stdout",
          "text": [
            "Epoch 1, train loss: 1.251677\n",
            "training accuracy: 0.67\n",
            "Epoch 1, validation loss: 0.479242\n",
            "training accuracy: 0.69\n",
            "Epoch 2, train loss: 0.400200\n",
            "training accuracy: 0.89\n",
            "Epoch 2, validation loss: 0.334087\n",
            "training accuracy: 0.89\n",
            "Epoch 3, train loss: 0.320659\n",
            "training accuracy: 0.91\n",
            "Epoch 3, validation loss: 0.289010\n",
            "training accuracy: 0.91\n",
            "Epoch 4, train loss: 0.281065\n",
            "training accuracy: 0.92\n",
            "Epoch 4, validation loss: 0.258577\n",
            "training accuracy: 0.92\n",
            "Epoch 5, train loss: 0.250804\n",
            "training accuracy: 0.93\n",
            "Epoch 5, validation loss: 0.234990\n",
            "training accuracy: 0.93\n"
          ]
        }
      ]
    }
  ]
}